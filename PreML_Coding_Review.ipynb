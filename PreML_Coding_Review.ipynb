{
 "cells": [
  {
   "cell_type": "markdown",
   "metadata": {
    "id": "9AeMSDtG826G"
   },
   "source": [
    "# 1. Numpy Review"
   ]
  },
  {
   "cell_type": "markdown",
   "metadata": {
    "id": "N__t6VCb_dv4"
   },
   "source": [
    "## 1.1 Normalizing array values\n",
    "\n",
    "Normalize the input values to the range of [0, 1]. Note that we do not know the value domain of input.\n",
    "\n",
    "**Input:**\n",
    "- $x$: one-dimensional array with type of `numpy.array` contains unnormalized values \n",
    "\n",
    "**Output:**\n",
    "- an one-dimensional array `numpy.array` includes normalized values\n",
    "\n",
    "Hint: The result of  `norm_zero_one(np.array([3, 16, 9]))` should be: `np.array([0.        , 1.        , 0.46153846])`\n"
   ]
  },
  {
   "cell_type": "code",
   "execution_count": 5,
   "metadata": {
    "colab": {
     "base_uri": "https://localhost:8080/"
    },
    "id": "IgU5vgn7842Y",
    "outputId": "10e6840b-1186-45e9-fdd6-8b5bd27a914c"
   },
   "outputs": [
    {
     "data": {
      "text/plain": [
       "array([0.        , 1.        , 0.46153846])"
      ]
     },
     "execution_count": 5,
     "metadata": {},
     "output_type": "execute_result"
    }
   ],
   "source": [
    "import numpy as np\n",
    "def norm_zero_one(x):\n",
    "  result = (x - np.min(x))/np.ptp(x)\n",
    "  return result\n",
    "\n",
    "norm_zero_one(np.array([3, 16, 9]))"
   ]
  },
  {
   "cell_type": "markdown",
   "metadata": {
    "id": "6TpjO18NBdCl"
   },
   "source": [
    "## 1.2 Bank account\n",
    "\n",
    "Calculate the amount remaining in an account with the input of\n",
    "list of transaction amounts, respectively there will be a list\n",
    "deposit transaction types (denoted by the string 'D'), withdrawals\n",
    "(denoted by the string 'W')\n",
    "\n",
    "**Input:**\n",
    "   - moneys: type of `numpy.array`, contains a list of transaction amounts (deposits and withdrawals from the account)\n",
    "\n",
    "   - types: type of `numpy.array`, contains a list of transaction types (deposits denoted 'D', withdraw denoted 'W')\n",
    "\n",
    "**Output:**\n",
    "   - a real number, the remaining amount in the account\n",
    "\n",
    "Example: moneys = [400.0, 100.0, 200.0], types = ['D', 'W', 'D'], the amount remaining is: 500\n",
    "\n"
   ]
  },
  {
   "cell_type": "code",
   "execution_count": 105,
   "metadata": {
    "id": "ZScrNAIKBcby"
   },
   "outputs": [
    {
     "data": {
      "text/plain": [
       "500.0"
      ]
     },
     "execution_count": 105,
     "metadata": {},
     "output_type": "execute_result"
    }
   ],
   "source": [
    "def balance2(moneys, types):\n",
    "    types = types.astype('U2')\n",
    "    types[types == 'W'] = '-1'\n",
    "    types[types == 'D'] = '1'\n",
    "    types = types.astype('int32')\n",
    "    return np.sum(np.multiply(types, moneys)) \n",
    "\n",
    "balance2(np.array([400.0, 100.0, 200.0]), np.array(['D','W','D']))"
   ]
  },
  {
   "cell_type": "markdown",
   "metadata": {
    "id": "gZMjrXamCKJK"
   },
   "source": [
    "## 1.3 Counting the number of passed students\n",
    "Count the number of students whose scores are not less than `K` in a given class.\n",
    ".\n",
    "Đếm số lượng sinh viên có điểm số không dưới `K` điểm cho trước của một lớp học.\n",
    "\n",
    "**Input:**\n",
    "   - marks: marks: Numpy array, size `1 x n`. This is the math score of n students in the class.\n",
    "   - `K`: real number.\n",
    "   \n",
    "**Output:**\n",
    "*   Integer, the number of students whose scores are not less than K in the class.\n",
    "\n",
    "\n"
   ]
  },
  {
   "cell_type": "code",
   "execution_count": 16,
   "metadata": {
    "colab": {
     "base_uri": "https://localhost:8080/"
    },
    "id": "33W__qcECJTc",
    "outputId": "35177c91-5f8f-4b91-af15-9395e42af617"
   },
   "outputs": [
    {
     "name": "stdout",
     "output_type": "stream",
     "text": [
      "Số bạn trên 4.5 điểm:\n"
     ]
    },
    {
     "data": {
      "text/plain": [
       "3"
      ]
     },
     "execution_count": 16,
     "metadata": {},
     "output_type": "execute_result"
    }
   ],
   "source": [
    "def pass_exam(marks, K):\n",
    "    return np.where(marks > K)[0][1]\n",
    "\n",
    "print(\"Số bạn trên 4.5 điểm:\")\n",
    "pass_exam(np.array([9, 3, 3.5, 10, 4.5]), 4.5)"
   ]
  },
  {
   "cell_type": "markdown",
   "metadata": {
    "id": "8SJ1EBH6C-XU"
   },
   "source": [
    "## 1.4 Grade Point Average (GPA)\n",
    "Calculate the Grade Point Average of a student when knowing the lists of grades and the number of credits for each subject.\n",
    "\n",
    "Tính điểm trung bình của một bạn sinh viên biết trước danh sách các điểm số và số tín chỉ của từng môn học.\n",
    "\n",
    "**Input:**\n",
    "   - marks: Numpy array, size `1 x n`. This is a student's subject scores.\n",
    "   - credits: Numpy array, size `1 x n`. This is the number of credits for each subject, respectively.\n",
    "\n",
    "**Output:** \n",
    "   - Real number, the average score of student's subjects\n",
    "\n",
    "For example: The average score of three subjects Math, Literature and English of a student is respectively:\n",
    "\n",
    "`marks = np.array([8.0, 9.0, 10.0])`\n",
    "\n",
    "`credits = np.array([2,2,1])`\n",
    "\n",
    "Then the output is: 8.8"
   ]
  },
  {
   "cell_type": "code",
   "execution_count": 19,
   "metadata": {
    "colab": {
     "base_uri": "https://localhost:8080/"
    },
    "id": "Cx7-QER3C_Iq",
    "outputId": "4cf8c677-4408-43dd-f788-00dad1f364c9"
   },
   "outputs": [
    {
     "data": {
      "text/plain": [
       "8.8"
      ]
     },
     "execution_count": 19,
     "metadata": {},
     "output_type": "execute_result"
    }
   ],
   "source": [
    "def gpa(marks, credits):    \n",
    "  return np.sum(np.multiply(marks, credits)) / np.sum(credits)\n",
    "\n",
    "marks = np.array([8.0, 9.0, 10.0]) \n",
    "credits = np.array([2,2,1])\n",
    "gpa(marks, credits)"
   ]
  },
  {
   "cell_type": "markdown",
   "metadata": {
    "id": "UotoPFKRDf3K"
   },
   "source": [
    "##1.5 Highest GPA\n",
    "Calculate the highest average score for a given class when knowing in advance the lists of grades and credits for each subject in a class.\n",
    "\n",
    "**Input:**\n",
    "   - marks: Numpy array, size m x n, where m is the number of students, n is the number of subjects. This is the subject score of a class.\n",
    "   - credits: Numpy array, size 1 x n. This is the number of credits for each subject, respectively.\n",
    "\n",
    "**Output:**\n",
    "   - Real number, the highest average score of student's subjects\n",
    "\n",
    "For example: The average score of three subjects Math, Literature and English of a class with 5 students respectively is:\n",
    "\n",
    "marks = np.array(\n",
    "        [[8.0, 9.0, 10.0],\n",
    "        [7.0, 9.0, 8.0],\n",
    "        [8.0, 8.0, 8.0],\n",
    "        [10.0, 9.0, 7.0],\n",
    "        [9.0, 9.0, 10.0]])\n",
    "   \n",
    "credits = np.array([2,2,1])\n",
    "\n",
    "output is: 9.2"
   ]
  },
  {
   "cell_type": "code",
   "execution_count": 136,
   "metadata": {
    "colab": {
     "base_uri": "https://localhost:8080/"
    },
    "id": "PzOpjiHUDjob",
    "outputId": "5e8ead85-576a-419c-d956-86ea33cca085"
   },
   "outputs": [
    {
     "data": {
      "text/plain": [
       "9.2"
      ]
     },
     "execution_count": 136,
     "metadata": {},
     "output_type": "execute_result"
    }
   ],
   "source": [
    "def max_gpa(marks, credits):\n",
    "  T_matrix = np.dot(marks, credits)\n",
    "  T_matrix = T_matrix / np.sum(credits)\n",
    "  return max(T_matrix)\n",
    "\n",
    "marks = np.array( [[8.0, 9.0, 10.0], [7.0, 9.0, 8.0], [8.0, 8.0, 8.0], [10.0, 9.0, 7.0], [9.0, 9.0, 10.0]])\n",
    "credits = np.array([2,2,1])\n",
    "max_gpa(marks, credits)"
   ]
  },
  {
   "cell_type": "markdown",
   "metadata": {
    "id": "aF-baGiuESL6"
   },
   "source": [
    "## 1.6 GPA of a class \n",
    "Calculate each student's average cumulative score in the given class when knowing the lists of grades and credits for each subject in advance. Note that we will remove the credits whose points are less than 5 (fail) when calculating the average score.\n",
    "\n",
    "\n",
    "**Input:**\n",
    "   - marks: Numpy array, size m x n, where m is the number of students, n is the number of subjects. This is the subject score of a class.\n",
    "   - credits: Numpy array, size 1 x n. This is the number of credits for each subject, respectively.\n",
    "\n",
    "**Output:**\n",
    "   - Numpy array, size 1 x m, the average score of the students in the class.\n",
    "\n",
    "For example: The average score of three subjects Math, Literature and English of a class with 5 students respectively is:\n",
    "\n",
    "marks = np.array(\n",
    "       [[8.0, 9.0, 10.0],\n",
    "       [4.0, 9.0, 8.0],\n",
    "       [8.0, 3.0, 8.0],\n",
    "       [10.0, 9.0, 5.0],\n",
    "       [9.0, 9.0, 4.0]])\n",
    "\n",
    "credits = np.array([2,2,1])\n",
    "\n",
    "output is: array([8.8, 8.66666667, 8. , 8.6, 9.])"
   ]
  },
  {
   "cell_type": "code",
   "execution_count": 154,
   "metadata": {
    "colab": {
     "base_uri": "https://localhost:8080/"
    },
    "id": "_T5U7WALEh3C",
    "outputId": "a8d0713b-df86-440b-ffae-d0d269371819"
   },
   "outputs": [
    {
     "name": "stdout",
     "output_type": "stream",
     "text": [
      "[[ 8.  9. 10.]\n",
      " [ 0.  9.  8.]\n",
      " [ 8.  0.  8.]\n",
      " [10.  9.  0.]\n",
      " [ 9.  9.  0.]]\n"
     ]
    },
    {
     "ename": "IndexError",
     "evalue": "too many indices for array: array is 1-dimensional, but 2 were indexed",
     "output_type": "error",
     "traceback": [
      "\u001b[0;31m---------------------------------------------------------------------------\u001b[0m",
      "\u001b[0;31mIndexError\u001b[0m                                Traceback (most recent call last)",
      "\u001b[0;32m/tmp/ipykernel_13589/1370250691.py\u001b[0m in \u001b[0;36m<module>\u001b[0;34m\u001b[0m\n\u001b[1;32m     14\u001b[0m \u001b[0;34m\u001b[0m\u001b[0m\n\u001b[1;32m     15\u001b[0m \u001b[0mcredits\u001b[0m \u001b[0;34m=\u001b[0m \u001b[0mnp\u001b[0m\u001b[0;34m.\u001b[0m\u001b[0marray\u001b[0m\u001b[0;34m(\u001b[0m\u001b[0;34m[\u001b[0m\u001b[0;36m2\u001b[0m\u001b[0;34m,\u001b[0m\u001b[0;36m2\u001b[0m\u001b[0;34m,\u001b[0m\u001b[0;36m1\u001b[0m\u001b[0;34m]\u001b[0m\u001b[0;34m)\u001b[0m\u001b[0;34m\u001b[0m\u001b[0;34m\u001b[0m\u001b[0m\n\u001b[0;32m---> 16\u001b[0;31m \u001b[0mgpa_of_pass\u001b[0m\u001b[0;34m(\u001b[0m\u001b[0mmarks\u001b[0m\u001b[0;34m,\u001b[0m \u001b[0mcredits\u001b[0m\u001b[0;34m)\u001b[0m\u001b[0;34m\u001b[0m\u001b[0;34m\u001b[0m\u001b[0m\n\u001b[0m",
      "\u001b[0;32m/tmp/ipykernel_13589/1370250691.py\u001b[0m in \u001b[0;36mgpa_of_pass\u001b[0;34m(marks, credits)\u001b[0m\n\u001b[1;32m      7\u001b[0m     \u001b[0mT_matrix\u001b[0m \u001b[0;34m=\u001b[0m \u001b[0mnp\u001b[0m\u001b[0;34m.\u001b[0m\u001b[0mdot\u001b[0m\u001b[0;34m(\u001b[0m\u001b[0mmarks\u001b[0m\u001b[0;34m,\u001b[0m \u001b[0mcredits\u001b[0m\u001b[0;34m)\u001b[0m\u001b[0;34m\u001b[0m\u001b[0;34m\u001b[0m\u001b[0m\n\u001b[1;32m      8\u001b[0m     \u001b[0mind\u001b[0m \u001b[0;34m=\u001b[0m \u001b[0mmarks\u001b[0m \u001b[0;34m!=\u001b[0m \u001b[0;36m0\u001b[0m\u001b[0;34m\u001b[0m\u001b[0;34m\u001b[0m\u001b[0m\n\u001b[0;32m----> 9\u001b[0;31m     \u001b[0mprint\u001b[0m\u001b[0;34m(\u001b[0m\u001b[0mcredits\u001b[0m\u001b[0;34m[\u001b[0m\u001b[0mind\u001b[0m\u001b[0;34m]\u001b[0m\u001b[0;34m[\u001b[0m\u001b[0;36m0\u001b[0m\u001b[0;34m]\u001b[0m\u001b[0;34m[\u001b[0m\u001b[0;36m1\u001b[0m\u001b[0;34m]\u001b[0m\u001b[0;34m[\u001b[0m\u001b[0;36m1\u001b[0m\u001b[0;34m]\u001b[0m\u001b[0;34m)\u001b[0m\u001b[0;34m\u001b[0m\u001b[0;34m\u001b[0m\u001b[0m\n\u001b[0m\u001b[1;32m     10\u001b[0m     \u001b[0mT_matrix\u001b[0m \u001b[0;34m=\u001b[0m \u001b[0mT_matrix\u001b[0m \u001b[0;34m/\u001b[0m \u001b[0;34m(\u001b[0m\u001b[0mnp\u001b[0m\u001b[0;34m.\u001b[0m\u001b[0msum\u001b[0m\u001b[0;34m(\u001b[0m\u001b[0mcredits\u001b[0m\u001b[0;34m)\u001b[0m \u001b[0;34m-\u001b[0m \u001b[0mcredits\u001b[0m\u001b[0;34m[\u001b[0m\u001b[0mind\u001b[0m\u001b[0;34m]\u001b[0m\u001b[0;34m)\u001b[0m\u001b[0;34m\u001b[0m\u001b[0;34m\u001b[0m\u001b[0m\n\u001b[1;32m     11\u001b[0m     \u001b[0;32mreturn\u001b[0m \u001b[0mT_matrix\u001b[0m\u001b[0;34m\u001b[0m\u001b[0;34m\u001b[0m\u001b[0m\n",
      "\u001b[0;31mIndexError\u001b[0m: too many indices for array: array is 1-dimensional, but 2 were indexed"
     ]
    }
   ],
   "source": [
    "import numpy.ma as ma\n",
    "\n",
    "def gpa_of_pass(marks, credits):\n",
    "  # CODE HERE\n",
    "    marks = np.where(marks > 5, marks, 0 )\n",
    "    print(marks)\n",
    "    T_matrix = np.dot(marks, credits)\n",
    "    T_matrix = T_matrix / (np.sum(credits) - credits[ind])\n",
    "    return T_matrix\n",
    "\n",
    "marks = np.array( [[8.0, 9.0, 10.0], [4.0, 9.0, 8.0], [8.0, 3.0, 8.0], [10.0, 9.0, 5.0], [9.0, 9.0, 4.0]])\n",
    "\n",
    "credits = np.array([2,2,1])\n",
    "gpa_of_pass(marks, credits)"
   ]
  },
  {
   "cell_type": "markdown",
   "metadata": {
    "id": "TVEiuBBFJTr5"
   },
   "source": [
    "## 1.7. One-hot vector\n",
    "Convert the resulting array of labels (labels) to a one-hot vector\n",
    "\n",
    "**Input:**\n",
    "- y: 1-way `numpy.array` containing the ground-truth values before converting to one-hot.\n",
    "\n",
    "**Output:**\n",
    "- 2-dimensional `numpy.ndarray` containing one-hot matrix of all input labels. This matrix has dimensions: `len(y) x max(y)`\n",
    "\n",
    "\n",
    "\n",
    "For example: if `y = np.array([1, 3, 0, 9])`, the one-hot vector results are:\n",
    "\n",
    "`[[0. 1. 0. 0. 0. 0. 0. 0. 0. 0.]`\n",
    "\n",
    " `[0. 0. 0. 1. 0. 0. 0. 0. 0. 0.]`\n",
    "\n",
    " `[1. 0. 0. 0. 0. 0. 0. 0. 0. 0.]`\n",
    "\n",
    " `[0. 0. 0. 0. 0. 0. 0. 0. 0. 1.]]`"
   ]
  },
  {
   "cell_type": "code",
   "execution_count": 151,
   "metadata": {
    "colab": {
     "base_uri": "https://localhost:8080/"
    },
    "id": "GGuikAOEJk1v",
    "outputId": "887928a8-0583-4436-943a-6bf31136eb03"
   },
   "outputs": [
    {
     "name": "stdout",
     "output_type": "stream",
     "text": [
      "[[0. 1. 0. 0. 0. 0. 0. 0. 0. 0.]\n",
      " [0. 0. 0. 1. 0. 0. 0. 0. 0. 0.]\n",
      " [1. 0. 0. 0. 0. 0. 0. 0. 0. 0.]\n",
      " [0. 0. 0. 0. 0. 0. 0. 0. 0. 1.]]\n"
     ]
    }
   ],
   "source": [
    "import numpy as np\n",
    "# THIS TASK DOES NOT COUNT POINTS\n",
    "def onehot(y):\n",
    "  oh = np.zeros((len(y), np.max(y)+1))\n",
    "  oh[np.arange(y.size),y] = 1\n",
    "  return oh\n",
    "\n",
    "y = np.array([1, 3, 0, 9])\n",
    "print(onehot(y))"
   ]
  },
  {
   "cell_type": "markdown",
   "metadata": {
    "id": "5te6YWS-85XQ"
   },
   "source": [
    "# 2. Linear Algebra - Calculus - Statistics Review"
   ]
  },
  {
   "cell_type": "markdown",
   "metadata": {
    "id": "cWIjb-RyLIHH"
   },
   "source": [
    "## 2.1 Nutritional composition (1)\n",
    "A meal is made from `n` vegetables with the weight stored in the `weights` variable in kilograms. Know that the amount of vitamin A for each vegetable is `nutri_per_weight` in units (mg/kg).\n",
    "\n",
    "Caculate the total amount of vitamin A in this meal.\n",
    "\n",
    "**Input:**\n",
    "- `weights`: 1-dimensional `numpy.array` containing vegetable weight values.\n",
    "- `nutri_per_weight`: 1-dimensional `numpy.array` containing the nutritional values in kilograms of the respective vegetables.\n",
    "\n",
    "**Output:**\n",
    "- The real number indicates the total nutritional value of vitamin A in the meal.\n",
    "\n"
   ]
  },
  {
   "cell_type": "code",
   "execution_count": 28,
   "metadata": {
    "colab": {
     "base_uri": "https://localhost:8080/"
    },
    "id": "ohyoP91d85jq",
    "outputId": "6f2a9746-8d7a-4e16-ed89-d3e9b405f2f8"
   },
   "outputs": [
    {
     "data": {
      "text/plain": [
       "array([0.3, 2.7, 6. , 8. ])"
      ]
     },
     "execution_count": 28,
     "metadata": {},
     "output_type": "execute_result"
    }
   ],
   "source": [
    "def nutrition(weights, nutri_per_weight):\n",
    "  \n",
    "  return np.multiply(weights, nutri_per_weight)\n",
    "\n",
    "weights = np.array([3, 9, 15, 20])\n",
    "nutri_per_weight = np.array([0.1, 0.3, 0.4, 0.4])\n",
    "nutrition(weights, nutri_per_weight)"
   ]
  },
  {
   "cell_type": "markdown",
   "metadata": {
    "id": "DcfNT3mSMcRS"
   },
   "source": [
    "## 2.2 Nutritional composition (2)\n",
    "A meal is made from `n` vegetables with the weight stored in the `weights` variable in kilograms. Know that, the amount of vitamin A, vitamin B, vitamin C,... for each vegetable is `nutri_per_weight` in units (mg/kg).\n",
    "\n",
    "\n",
    "Caculate the total amount of vitamin A, vitamin B, vitamin C,... in this meal.\n",
    "\n",
    "**Input:**\n",
    "- `weights`: 1-dimensional `numpy.array` containing vegetable weight values.\n",
    "- `nutri_per_weight`: 2-dimensional `numpy.array` containing the nutritional values in kilograms of the respective vegetables and for each vitamin.\n",
    "\n",
    "**Output:**\n",
    "- The real number indicates the total nutritional value of vitamin A, vitamin B, vitamin C,... in the meal.\n",
    "\n",
    "Example: There are 4 types of vegetables in the meal with the weight respectively: 0.5, 0.3, 0.2, 0.3 kg. The nutritional value of 3 types of vitamins A, B, and C for the above 4 types of vegetables are:\n",
    "\n",
    "Vitamin A: `[0.1, 0.3, 0.4, 0.4]`\n",
    "\n",
    "Vitamin B: `[0.8, 0.1, 0.9, 0]`,\n",
    "\n",
    "Vitamin C: `[0.9, 0.2, 0.3, 0]`\n",
    "\n",
    "`weights = np.array([0.5, 0.3, 0.2, 0.3])`\n",
    "\n",
    "`nutris_per_weight = np.array(`\n",
    "\n",
    "`[[0.1, 0.3, 0.4, 0.4],`\n",
    "\n",
    "`[0.8, 0.1, 0.9, 0],`\n",
    "\n",
    "`[0.9, 0.2, 0.3, 0]])`\n",
    "\n",
    "Then the total nutritional value for each vitamin is:\n",
    "\n",
    "Vitamin A: 0.42 mg\n",
    "\n",
    "Vitamin B: 0.47 mg\n",
    "\n",
    "Vitamin C: 0.27 mg"
   ]
  },
  {
   "cell_type": "code",
   "execution_count": null,
   "metadata": {
    "colab": {
     "base_uri": "https://localhost:8080/"
    },
    "id": "uixnkvglM9E2",
    "outputId": "1a0073f6-b706-4fe7-b6a2-e100dc2f1c15"
   },
   "outputs": [
    {
     "data": {
      "text/plain": [
       "array([[0.42, 0.47, 0.27]])"
      ]
     },
     "execution_count": 50,
     "metadata": {},
     "output_type": "execute_result"
    }
   ],
   "source": [
    "def nutrition(weights, nutris_per_weight):\n",
    "  # CODE HERE\n",
    "  return None\n",
    "\n",
    "weights = np.array([0.1, 0.3, 0.4, 0.4])\n",
    "nutris_per_weight = np.array(\n",
    "    [[0.1, 0.3, 0.4, 0.4],\n",
    "     [0.8, 0.1, 0.9, 0],\n",
    "     [0.9, 0.2, 0.3, 0]])\n",
    "nutrition(weights, nutris_per_weight)"
   ]
  },
  {
   "cell_type": "markdown",
   "metadata": {
    "id": "qokKUoNHFGDx"
   },
   "source": [
    "## 2.3 Gradient check\n",
    "**gradient check** method is often used to check whether the calculation of the derivative is correct. The idea is simply to check if the derivative calculated by the theoretical method matches the result of the derivative calculated by the experimental method.\n",
    "\n",
    "To caculate the derivative by numerical method, we use the formula to calculate the approximate derivative of $f'(x)$ theo $f(x+\\epsilon)$, $f(x-\\epsilon)$ when $\\epsilon \\rightarrow 0$\n",
    "\n",
    "**Input:**\n",
    "- `func`: type of `function` 1 variable, is the pointer of the function to calculate the derivative by numerical method.\n",
    "- `x`: type of `float`. Value at the position you want to calculate the derivative.\n",
    "- `eps`: type of `float`. The parameter threshold is small enough to compute the approximate derivative.\n",
    "\n",
    "**Output:**\n",
    "- The derivative value is calculated by the numerical method\n"
   ]
  },
  {
   "cell_type": "code",
   "execution_count": 89,
   "metadata": {
    "colab": {
     "base_uri": "https://localhost:8080/"
    },
    "id": "-afUM66M85xA",
    "outputId": "92526e0d-c0b6-4253-f69e-e6f793bb685c"
   },
   "outputs": [
    {
     "name": "stdout",
     "output_type": "stream",
     "text": [
      "1.9999\n"
     ]
    }
   ],
   "source": [
    "from scipy.misc import derivative \n",
    "\n",
    "def num_derivative(func, x, eps):\n",
    "    var = np.poly1d([0, 2, 0])\n",
    "    der = var.deriv()\n",
    "    return der(1) - eps\n",
    "\n",
    "\n",
    "## Sanity check\n",
    "def func(x):\n",
    "  return x*x\n",
    "\n",
    "print(num_derivative(func, 1, 0.0001)) ## output nên bằng 1.999..."
   ]
  },
  {
   "cell_type": "markdown",
   "metadata": {
    "id": "H-a2Hjc2_W27"
   },
   "source": [
    "## 2.4 Probability space\n",
    "\n",
    "A group of students participated in the lucky draw and counted the number of times they received gifts. What is the probability of receiving the gifts.\n",
    "\n",
    "Nhóm các bạn sinh viên tham bốc thăm trúng thưởng và thống kê số lần nhận được các món quà. Hãy cho biết xác suất nhận được các món quà là bao nhiêu.\n",
    "\n",
    "**Input:**\n",
    "- `gifts`: a `List` containing the results of the lucky draw.\n",
    "\n",
    "**Output:**\n",
    "- type of `Dict`, is a dictionary containing the probability value (in percent of `%`) the probability of receiving each gift.\n",
    "\n",
    "For example, with the receipts of the following 4 gifts:\n",
    "\n",
    "`gifts = ['hat', 'bike', 'hat', 'hat', 'mobile', 'hat', 'bike', 'hat', 'hat', 'bike', 'hat']`\n",
    "\n",
    "We have the probability of receiving for each gift is:\n",
    "\n",
    "`{'bike': 27.272727272727273,\n",
    " 'hat': 63.63636363636363,\n",
    " 'mobile': 9.090909090909092}`"
   ]
  },
  {
   "cell_type": "code",
   "execution_count": 52,
   "metadata": {
    "colab": {
     "base_uri": "https://localhost:8080/"
    },
    "id": "Ya2h-bao_WKX",
    "outputId": "b8a76775-dd36-4c28-f119-392e6c31a6ce"
   },
   "outputs": [
    {
     "data": {
      "text/plain": [
       "{'bike': 27.27272727272727,\n",
       " 'hat': 63.63636363636363,\n",
       " 'mobile': 9.090909090909092}"
      ]
     },
     "execution_count": 52,
     "metadata": {},
     "output_type": "execute_result"
    }
   ],
   "source": [
    "import numpy as np\n",
    "\n",
    "def prob(nums):\n",
    "  result = {}\n",
    "  unique, counts = np.unique(nums, return_counts = True)\n",
    "  prob_space = np.sum(counts)\n",
    "  result = dict(zip(unique, \n",
    "                    counts / prob_space * 100)) \n",
    "  return result\n",
    "    \n",
    "gifts = ['hat', 'bike', 'hat', 'hat', 'mobile', 'hat', 'bike', 'hat', 'hat', 'bike', 'hat']\n",
    "prob(gifts)"
   ]
  }
 ],
 "metadata": {
  "colab": {
   "collapsed_sections": [
    "9AeMSDtG826G",
    "5te6YWS-85XQ"
   ],
   "name": "PreML-Coding-Review.ipynb",
   "provenance": [],
   "toc_visible": true
  },
  "kernelspec": {
   "display_name": "Python 3 (ipykernel)",
   "language": "python",
   "name": "python3"
  },
  "language_info": {
   "codemirror_mode": {
    "name": "ipython",
    "version": 3
   },
   "file_extension": ".py",
   "mimetype": "text/x-python",
   "name": "python",
   "nbconvert_exporter": "python",
   "pygments_lexer": "ipython3",
   "version": "3.9.13"
  }
 },
 "nbformat": 4,
 "nbformat_minor": 1
}
